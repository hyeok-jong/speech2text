{
 "cells": [
  {
   "cell_type": "code",
   "execution_count": null,
   "id": "b2da4336-d5d0-4aff-bddb-bfe386342ecd",
   "metadata": {},
   "outputs": [],
   "source": [
    "!pip install SpeechRecognition"
   ]
  },
  {
   "cell_type": "code",
   "execution_count": 1,
   "id": "7a206d29-676a-4aee-9bd6-1e1e41f6e08d",
   "metadata": {},
   "outputs": [
    {
     "name": "stderr",
     "output_type": "stream",
     "text": [
      "/opt/conda/lib/python3.8/site-packages/pydub/utils.py:170: RuntimeWarning: Couldn't find ffmpeg or avconv - defaulting to ffmpeg, but may not work\n",
      "  warn(\"Couldn't find ffmpeg or avconv - defaulting to ffmpeg, but may not work\", RuntimeWarning)\n"
     ]
    }
   ],
   "source": [
    "from pydub import AudioSegment\n",
    "import speech_recognition as sr\n",
    "from tqdm.notebook import tqdm"
   ]
  },
  {
   "cell_type": "code",
   "execution_count": 3,
   "id": "90f3027e-215c-4de4-9137-41ddc203e14b",
   "metadata": {},
   "outputs": [],
   "source": [
    "\n",
    "def change_sample_rate(input_file, output_file, new_rate=16000):\n",
    "    # Load the audio file\n",
    "    audio = AudioSegment.from_wav(input_file)\n",
    "\n",
    "    # Change the sample rate\n",
    "    audio = audio.set_frame_rate(new_rate)\n",
    "\n",
    "    # Export the modified audio\n",
    "    audio.export(output_file, format=\"wav\")\n",
    "\n",
    "input_file = './Ihwa-dong.wav'  # Path to your original WAV file\n",
    "output_file = './RE-Ihwa-dong.wav'  # Path for the new WAV file\n",
    "\n",
    "# Change the sample rate to 16000 Hz\n",
    "change_sample_rate(input_file, output_file, new_rate=16000)\n",
    "\n"
   ]
  },
  {
   "cell_type": "code",
   "execution_count": null,
   "id": "959152df-9ec1-46c0-b3e7-1f0a1475a144",
   "metadata": {},
   "outputs": [],
   "source": [
    "\n",
    "\n",
    "def transcribe_audio_dual_language(file_path, chunk_duration=30, language1='en-US', language2='ko-KR'):\n",
    "    recognizer = sr.Recognizer()\n",
    "\n",
    "    with sr.AudioFile(file_path) as source:\n",
    "        audio_length = source.DURATION\n",
    "\n",
    "    text_lang1 = \"\"\n",
    "    text_lang2 = \"\"\n",
    "    for start in tqdm(range(0, int(audio_length) - 30*30, chunk_duration)):\n",
    "        with sr.AudioFile(file_path) as source:\n",
    "            audio_data = recognizer.record(source, duration=chunk_duration, offset=start)\n",
    "            # # Transcribe in the first language (e.g., English)\n",
    "            # try:\n",
    "            #     chunk_text_lang1 = recognizer.recognize_google(audio_data, language=language1)\n",
    "            #     text_lang1 += chunk_text_lang1 + \" \"\n",
    "            # except sr.UnknownValueError:\n",
    "            #     text_lang1 += \"(inaudible in English) \"\n",
    "            # except sr.RequestError as e:\n",
    "            #     text_lang1 += f\"(Error in English transcription: {e}) \"\n",
    "\n",
    "            # Transcribe in the second language (e.g., Korean)\n",
    "            try:\n",
    "                chunk_text_lang2 = recognizer.recognize_google(audio_data, language=language2)\n",
    "                text_lang2 += chunk_text_lang2 + \" \"\n",
    "            except sr.UnknownValueError:\n",
    "                text_lang2 += \"(inaudible in Korean) \"\n",
    "            except sr.RequestError as e:\n",
    "                text_lang2 += f\"(Error in Korean transcription: {e}) \"\n",
    "\n",
    "    return text_lang1, text_lang2\n",
    "\n",
    "# Set the path to your audio file\n",
    "audio_file_path = './RE-Ihwa-dong.wav'\n",
    "\n",
    "# Transcribe the audio in both English and Korean\n",
    "transcribed_text_english, transcribed_text_korean = transcribe_audio_dual_language(audio_file_path)\n",
    "# print(\"English Transcription:\\n\", transcribed_text_english)\n",
    "print(\"\\nKorean Transcription:\\n\", transcribed_text_korean)\n"
   ]
  },
  {
   "cell_type": "code",
   "execution_count": null,
   "id": "ff2a0e9b-7a9d-4e6a-876e-c3826cbb8645",
   "metadata": {},
   "outputs": [],
   "source": []
  },
  {
   "cell_type": "code",
   "execution_count": null,
   "id": "26b2cb25-fb3e-4829-80ee-8d49739b1136",
   "metadata": {},
   "outputs": [],
   "source": []
  }
 ],
 "metadata": {
  "kernelspec": {
   "display_name": "Python 3 (ipykernel)",
   "language": "python",
   "name": "python3"
  },
  "language_info": {
   "codemirror_mode": {
    "name": "ipython",
    "version": 3
   },
   "file_extension": ".py",
   "mimetype": "text/x-python",
   "name": "python",
   "nbconvert_exporter": "python",
   "pygments_lexer": "ipython3",
   "version": "3.8.13"
  }
 },
 "nbformat": 4,
 "nbformat_minor": 5
}
